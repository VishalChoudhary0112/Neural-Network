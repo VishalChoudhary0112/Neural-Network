{
  "nbformat": 4,
  "nbformat_minor": 0,
  "metadata": {
    "colab": {
      "provenance": [],
      "gpuType": "T4"
    },
    "kernelspec": {
      "name": "python3",
      "display_name": "Python 3"
    },
    "language_info": {
      "name": "python"
    },
    "widgets": {
      "application/vnd.jupyter.widget-state+json": {
        "79aec248566d45b1b86d3f73e6ce6c7d": {
          "model_module": "@jupyter-widgets/controls",
          "model_name": "HBoxModel",
          "model_module_version": "1.5.0",
          "state": {
            "_dom_classes": [],
            "_model_module": "@jupyter-widgets/controls",
            "_model_module_version": "1.5.0",
            "_model_name": "HBoxModel",
            "_view_count": null,
            "_view_module": "@jupyter-widgets/controls",
            "_view_module_version": "1.5.0",
            "_view_name": "HBoxView",
            "box_style": "",
            "children": [
              "IPY_MODEL_6797993e634d4ea09c53d14c1147dea7",
              "IPY_MODEL_ce1b34adec4146a0977e43782f703467",
              "IPY_MODEL_09c699e19057479ba7e3687506866c57"
            ],
            "layout": "IPY_MODEL_3e9a613861364ad8a7c95dd938f44a20"
          }
        },
        "6797993e634d4ea09c53d14c1147dea7": {
          "model_module": "@jupyter-widgets/controls",
          "model_name": "HTMLModel",
          "model_module_version": "1.5.0",
          "state": {
            "_dom_classes": [],
            "_model_module": "@jupyter-widgets/controls",
            "_model_module_version": "1.5.0",
            "_model_name": "HTMLModel",
            "_view_count": null,
            "_view_module": "@jupyter-widgets/controls",
            "_view_module_version": "1.5.0",
            "_view_name": "HTMLView",
            "description": "",
            "description_tooltip": null,
            "layout": "IPY_MODEL_916e6c5575b242029eced679a9220610",
            "placeholder": "​",
            "style": "IPY_MODEL_d93789ac6e474f86a7430f84e90fa153",
            "value": "100%"
          }
        },
        "ce1b34adec4146a0977e43782f703467": {
          "model_module": "@jupyter-widgets/controls",
          "model_name": "FloatProgressModel",
          "model_module_version": "1.5.0",
          "state": {
            "_dom_classes": [],
            "_model_module": "@jupyter-widgets/controls",
            "_model_module_version": "1.5.0",
            "_model_name": "FloatProgressModel",
            "_view_count": null,
            "_view_module": "@jupyter-widgets/controls",
            "_view_module_version": "1.5.0",
            "_view_name": "ProgressView",
            "bar_style": "success",
            "description": "",
            "description_tooltip": null,
            "layout": "IPY_MODEL_d1f11d5ea5364606865a6d27a6846ba3",
            "max": 3,
            "min": 0,
            "orientation": "horizontal",
            "style": "IPY_MODEL_a698e746b2e04a7799165b423c402b33",
            "value": 3
          }
        },
        "09c699e19057479ba7e3687506866c57": {
          "model_module": "@jupyter-widgets/controls",
          "model_name": "HTMLModel",
          "model_module_version": "1.5.0",
          "state": {
            "_dom_classes": [],
            "_model_module": "@jupyter-widgets/controls",
            "_model_module_version": "1.5.0",
            "_model_name": "HTMLModel",
            "_view_count": null,
            "_view_module": "@jupyter-widgets/controls",
            "_view_module_version": "1.5.0",
            "_view_name": "HTMLView",
            "description": "",
            "description_tooltip": null,
            "layout": "IPY_MODEL_a482ba54b9f045ac93546b1243d63103",
            "placeholder": "​",
            "style": "IPY_MODEL_85ea270d878b4375a890b0f30d10e9e8",
            "value": " 3/3 [00:47&lt;00:00, 15.70s/it]"
          }
        },
        "3e9a613861364ad8a7c95dd938f44a20": {
          "model_module": "@jupyter-widgets/base",
          "model_name": "LayoutModel",
          "model_module_version": "1.2.0",
          "state": {
            "_model_module": "@jupyter-widgets/base",
            "_model_module_version": "1.2.0",
            "_model_name": "LayoutModel",
            "_view_count": null,
            "_view_module": "@jupyter-widgets/base",
            "_view_module_version": "1.2.0",
            "_view_name": "LayoutView",
            "align_content": null,
            "align_items": null,
            "align_self": null,
            "border": null,
            "bottom": null,
            "display": null,
            "flex": null,
            "flex_flow": null,
            "grid_area": null,
            "grid_auto_columns": null,
            "grid_auto_flow": null,
            "grid_auto_rows": null,
            "grid_column": null,
            "grid_gap": null,
            "grid_row": null,
            "grid_template_areas": null,
            "grid_template_columns": null,
            "grid_template_rows": null,
            "height": null,
            "justify_content": null,
            "justify_items": null,
            "left": null,
            "margin": null,
            "max_height": null,
            "max_width": null,
            "min_height": null,
            "min_width": null,
            "object_fit": null,
            "object_position": null,
            "order": null,
            "overflow": null,
            "overflow_x": null,
            "overflow_y": null,
            "padding": null,
            "right": null,
            "top": null,
            "visibility": null,
            "width": null
          }
        },
        "916e6c5575b242029eced679a9220610": {
          "model_module": "@jupyter-widgets/base",
          "model_name": "LayoutModel",
          "model_module_version": "1.2.0",
          "state": {
            "_model_module": "@jupyter-widgets/base",
            "_model_module_version": "1.2.0",
            "_model_name": "LayoutModel",
            "_view_count": null,
            "_view_module": "@jupyter-widgets/base",
            "_view_module_version": "1.2.0",
            "_view_name": "LayoutView",
            "align_content": null,
            "align_items": null,
            "align_self": null,
            "border": null,
            "bottom": null,
            "display": null,
            "flex": null,
            "flex_flow": null,
            "grid_area": null,
            "grid_auto_columns": null,
            "grid_auto_flow": null,
            "grid_auto_rows": null,
            "grid_column": null,
            "grid_gap": null,
            "grid_row": null,
            "grid_template_areas": null,
            "grid_template_columns": null,
            "grid_template_rows": null,
            "height": null,
            "justify_content": null,
            "justify_items": null,
            "left": null,
            "margin": null,
            "max_height": null,
            "max_width": null,
            "min_height": null,
            "min_width": null,
            "object_fit": null,
            "object_position": null,
            "order": null,
            "overflow": null,
            "overflow_x": null,
            "overflow_y": null,
            "padding": null,
            "right": null,
            "top": null,
            "visibility": null,
            "width": null
          }
        },
        "d93789ac6e474f86a7430f84e90fa153": {
          "model_module": "@jupyter-widgets/controls",
          "model_name": "DescriptionStyleModel",
          "model_module_version": "1.5.0",
          "state": {
            "_model_module": "@jupyter-widgets/controls",
            "_model_module_version": "1.5.0",
            "_model_name": "DescriptionStyleModel",
            "_view_count": null,
            "_view_module": "@jupyter-widgets/base",
            "_view_module_version": "1.2.0",
            "_view_name": "StyleView",
            "description_width": ""
          }
        },
        "d1f11d5ea5364606865a6d27a6846ba3": {
          "model_module": "@jupyter-widgets/base",
          "model_name": "LayoutModel",
          "model_module_version": "1.2.0",
          "state": {
            "_model_module": "@jupyter-widgets/base",
            "_model_module_version": "1.2.0",
            "_model_name": "LayoutModel",
            "_view_count": null,
            "_view_module": "@jupyter-widgets/base",
            "_view_module_version": "1.2.0",
            "_view_name": "LayoutView",
            "align_content": null,
            "align_items": null,
            "align_self": null,
            "border": null,
            "bottom": null,
            "display": null,
            "flex": null,
            "flex_flow": null,
            "grid_area": null,
            "grid_auto_columns": null,
            "grid_auto_flow": null,
            "grid_auto_rows": null,
            "grid_column": null,
            "grid_gap": null,
            "grid_row": null,
            "grid_template_areas": null,
            "grid_template_columns": null,
            "grid_template_rows": null,
            "height": null,
            "justify_content": null,
            "justify_items": null,
            "left": null,
            "margin": null,
            "max_height": null,
            "max_width": null,
            "min_height": null,
            "min_width": null,
            "object_fit": null,
            "object_position": null,
            "order": null,
            "overflow": null,
            "overflow_x": null,
            "overflow_y": null,
            "padding": null,
            "right": null,
            "top": null,
            "visibility": null,
            "width": null
          }
        },
        "a698e746b2e04a7799165b423c402b33": {
          "model_module": "@jupyter-widgets/controls",
          "model_name": "ProgressStyleModel",
          "model_module_version": "1.5.0",
          "state": {
            "_model_module": "@jupyter-widgets/controls",
            "_model_module_version": "1.5.0",
            "_model_name": "ProgressStyleModel",
            "_view_count": null,
            "_view_module": "@jupyter-widgets/base",
            "_view_module_version": "1.2.0",
            "_view_name": "StyleView",
            "bar_color": null,
            "description_width": ""
          }
        },
        "a482ba54b9f045ac93546b1243d63103": {
          "model_module": "@jupyter-widgets/base",
          "model_name": "LayoutModel",
          "model_module_version": "1.2.0",
          "state": {
            "_model_module": "@jupyter-widgets/base",
            "_model_module_version": "1.2.0",
            "_model_name": "LayoutModel",
            "_view_count": null,
            "_view_module": "@jupyter-widgets/base",
            "_view_module_version": "1.2.0",
            "_view_name": "LayoutView",
            "align_content": null,
            "align_items": null,
            "align_self": null,
            "border": null,
            "bottom": null,
            "display": null,
            "flex": null,
            "flex_flow": null,
            "grid_area": null,
            "grid_auto_columns": null,
            "grid_auto_flow": null,
            "grid_auto_rows": null,
            "grid_column": null,
            "grid_gap": null,
            "grid_row": null,
            "grid_template_areas": null,
            "grid_template_columns": null,
            "grid_template_rows": null,
            "height": null,
            "justify_content": null,
            "justify_items": null,
            "left": null,
            "margin": null,
            "max_height": null,
            "max_width": null,
            "min_height": null,
            "min_width": null,
            "object_fit": null,
            "object_position": null,
            "order": null,
            "overflow": null,
            "overflow_x": null,
            "overflow_y": null,
            "padding": null,
            "right": null,
            "top": null,
            "visibility": null,
            "width": null
          }
        },
        "85ea270d878b4375a890b0f30d10e9e8": {
          "model_module": "@jupyter-widgets/controls",
          "model_name": "DescriptionStyleModel",
          "model_module_version": "1.5.0",
          "state": {
            "_model_module": "@jupyter-widgets/controls",
            "_model_module_version": "1.5.0",
            "_model_name": "DescriptionStyleModel",
            "_view_count": null,
            "_view_module": "@jupyter-widgets/base",
            "_view_module_version": "1.2.0",
            "_view_name": "StyleView",
            "description_width": ""
          }
        },
        "27cea04182654efd96870eb39b6d7f73": {
          "model_module": "@jupyter-widgets/controls",
          "model_name": "HBoxModel",
          "model_module_version": "1.5.0",
          "state": {
            "_dom_classes": [],
            "_model_module": "@jupyter-widgets/controls",
            "_model_module_version": "1.5.0",
            "_model_name": "HBoxModel",
            "_view_count": null,
            "_view_module": "@jupyter-widgets/controls",
            "_view_module_version": "1.5.0",
            "_view_name": "HBoxView",
            "box_style": "",
            "children": [
              "IPY_MODEL_1e8dc7efc0c140ed94b12a90f038a359",
              "IPY_MODEL_3efe8ca12e134aa2bcbec15bcab8ae9a",
              "IPY_MODEL_29c6df5158cc4bab95f6621e408fa595"
            ],
            "layout": "IPY_MODEL_b6d9fa223496488c935fbb7c55b117fd"
          }
        },
        "1e8dc7efc0c140ed94b12a90f038a359": {
          "model_module": "@jupyter-widgets/controls",
          "model_name": "HTMLModel",
          "model_module_version": "1.5.0",
          "state": {
            "_dom_classes": [],
            "_model_module": "@jupyter-widgets/controls",
            "_model_module_version": "1.5.0",
            "_model_name": "HTMLModel",
            "_view_count": null,
            "_view_module": "@jupyter-widgets/controls",
            "_view_module_version": "1.5.0",
            "_view_name": "HTMLView",
            "description": "",
            "description_tooltip": null,
            "layout": "IPY_MODEL_f77fcb6d1ef0484ebef1b171f90b8f9f",
            "placeholder": "​",
            "style": "IPY_MODEL_fa3571b9736348c393f93b1a5b5f4585",
            "value": "100%"
          }
        },
        "3efe8ca12e134aa2bcbec15bcab8ae9a": {
          "model_module": "@jupyter-widgets/controls",
          "model_name": "FloatProgressModel",
          "model_module_version": "1.5.0",
          "state": {
            "_dom_classes": [],
            "_model_module": "@jupyter-widgets/controls",
            "_model_module_version": "1.5.0",
            "_model_name": "FloatProgressModel",
            "_view_count": null,
            "_view_module": "@jupyter-widgets/controls",
            "_view_module_version": "1.5.0",
            "_view_name": "ProgressView",
            "bar_style": "success",
            "description": "",
            "description_tooltip": null,
            "layout": "IPY_MODEL_59b7aa63180343f7b258b078273535fe",
            "max": 313,
            "min": 0,
            "orientation": "horizontal",
            "style": "IPY_MODEL_affcd55008f64b3695d2dc36304fa257",
            "value": 313
          }
        },
        "29c6df5158cc4bab95f6621e408fa595": {
          "model_module": "@jupyter-widgets/controls",
          "model_name": "HTMLModel",
          "model_module_version": "1.5.0",
          "state": {
            "_dom_classes": [],
            "_model_module": "@jupyter-widgets/controls",
            "_model_module_version": "1.5.0",
            "_model_name": "HTMLModel",
            "_view_count": null,
            "_view_module": "@jupyter-widgets/controls",
            "_view_module_version": "1.5.0",
            "_view_name": "HTMLView",
            "description": "",
            "description_tooltip": null,
            "layout": "IPY_MODEL_748b53f319a04fb78dc261ff4b767034",
            "placeholder": "​",
            "style": "IPY_MODEL_7e31e71541674a6fa4feadef06187037",
            "value": " 313/313 [00:02&lt;00:00, 134.80it/s]"
          }
        },
        "b6d9fa223496488c935fbb7c55b117fd": {
          "model_module": "@jupyter-widgets/base",
          "model_name": "LayoutModel",
          "model_module_version": "1.2.0",
          "state": {
            "_model_module": "@jupyter-widgets/base",
            "_model_module_version": "1.2.0",
            "_model_name": "LayoutModel",
            "_view_count": null,
            "_view_module": "@jupyter-widgets/base",
            "_view_module_version": "1.2.0",
            "_view_name": "LayoutView",
            "align_content": null,
            "align_items": null,
            "align_self": null,
            "border": null,
            "bottom": null,
            "display": null,
            "flex": null,
            "flex_flow": null,
            "grid_area": null,
            "grid_auto_columns": null,
            "grid_auto_flow": null,
            "grid_auto_rows": null,
            "grid_column": null,
            "grid_gap": null,
            "grid_row": null,
            "grid_template_areas": null,
            "grid_template_columns": null,
            "grid_template_rows": null,
            "height": null,
            "justify_content": null,
            "justify_items": null,
            "left": null,
            "margin": null,
            "max_height": null,
            "max_width": null,
            "min_height": null,
            "min_width": null,
            "object_fit": null,
            "object_position": null,
            "order": null,
            "overflow": null,
            "overflow_x": null,
            "overflow_y": null,
            "padding": null,
            "right": null,
            "top": null,
            "visibility": null,
            "width": null
          }
        },
        "f77fcb6d1ef0484ebef1b171f90b8f9f": {
          "model_module": "@jupyter-widgets/base",
          "model_name": "LayoutModel",
          "model_module_version": "1.2.0",
          "state": {
            "_model_module": "@jupyter-widgets/base",
            "_model_module_version": "1.2.0",
            "_model_name": "LayoutModel",
            "_view_count": null,
            "_view_module": "@jupyter-widgets/base",
            "_view_module_version": "1.2.0",
            "_view_name": "LayoutView",
            "align_content": null,
            "align_items": null,
            "align_self": null,
            "border": null,
            "bottom": null,
            "display": null,
            "flex": null,
            "flex_flow": null,
            "grid_area": null,
            "grid_auto_columns": null,
            "grid_auto_flow": null,
            "grid_auto_rows": null,
            "grid_column": null,
            "grid_gap": null,
            "grid_row": null,
            "grid_template_areas": null,
            "grid_template_columns": null,
            "grid_template_rows": null,
            "height": null,
            "justify_content": null,
            "justify_items": null,
            "left": null,
            "margin": null,
            "max_height": null,
            "max_width": null,
            "min_height": null,
            "min_width": null,
            "object_fit": null,
            "object_position": null,
            "order": null,
            "overflow": null,
            "overflow_x": null,
            "overflow_y": null,
            "padding": null,
            "right": null,
            "top": null,
            "visibility": null,
            "width": null
          }
        },
        "fa3571b9736348c393f93b1a5b5f4585": {
          "model_module": "@jupyter-widgets/controls",
          "model_name": "DescriptionStyleModel",
          "model_module_version": "1.5.0",
          "state": {
            "_model_module": "@jupyter-widgets/controls",
            "_model_module_version": "1.5.0",
            "_model_name": "DescriptionStyleModel",
            "_view_count": null,
            "_view_module": "@jupyter-widgets/base",
            "_view_module_version": "1.2.0",
            "_view_name": "StyleView",
            "description_width": ""
          }
        },
        "59b7aa63180343f7b258b078273535fe": {
          "model_module": "@jupyter-widgets/base",
          "model_name": "LayoutModel",
          "model_module_version": "1.2.0",
          "state": {
            "_model_module": "@jupyter-widgets/base",
            "_model_module_version": "1.2.0",
            "_model_name": "LayoutModel",
            "_view_count": null,
            "_view_module": "@jupyter-widgets/base",
            "_view_module_version": "1.2.0",
            "_view_name": "LayoutView",
            "align_content": null,
            "align_items": null,
            "align_self": null,
            "border": null,
            "bottom": null,
            "display": null,
            "flex": null,
            "flex_flow": null,
            "grid_area": null,
            "grid_auto_columns": null,
            "grid_auto_flow": null,
            "grid_auto_rows": null,
            "grid_column": null,
            "grid_gap": null,
            "grid_row": null,
            "grid_template_areas": null,
            "grid_template_columns": null,
            "grid_template_rows": null,
            "height": null,
            "justify_content": null,
            "justify_items": null,
            "left": null,
            "margin": null,
            "max_height": null,
            "max_width": null,
            "min_height": null,
            "min_width": null,
            "object_fit": null,
            "object_position": null,
            "order": null,
            "overflow": null,
            "overflow_x": null,
            "overflow_y": null,
            "padding": null,
            "right": null,
            "top": null,
            "visibility": null,
            "width": null
          }
        },
        "affcd55008f64b3695d2dc36304fa257": {
          "model_module": "@jupyter-widgets/controls",
          "model_name": "ProgressStyleModel",
          "model_module_version": "1.5.0",
          "state": {
            "_model_module": "@jupyter-widgets/controls",
            "_model_module_version": "1.5.0",
            "_model_name": "ProgressStyleModel",
            "_view_count": null,
            "_view_module": "@jupyter-widgets/base",
            "_view_module_version": "1.2.0",
            "_view_name": "StyleView",
            "bar_color": null,
            "description_width": ""
          }
        },
        "748b53f319a04fb78dc261ff4b767034": {
          "model_module": "@jupyter-widgets/base",
          "model_name": "LayoutModel",
          "model_module_version": "1.2.0",
          "state": {
            "_model_module": "@jupyter-widgets/base",
            "_model_module_version": "1.2.0",
            "_model_name": "LayoutModel",
            "_view_count": null,
            "_view_module": "@jupyter-widgets/base",
            "_view_module_version": "1.2.0",
            "_view_name": "LayoutView",
            "align_content": null,
            "align_items": null,
            "align_self": null,
            "border": null,
            "bottom": null,
            "display": null,
            "flex": null,
            "flex_flow": null,
            "grid_area": null,
            "grid_auto_columns": null,
            "grid_auto_flow": null,
            "grid_auto_rows": null,
            "grid_column": null,
            "grid_gap": null,
            "grid_row": null,
            "grid_template_areas": null,
            "grid_template_columns": null,
            "grid_template_rows": null,
            "height": null,
            "justify_content": null,
            "justify_items": null,
            "left": null,
            "margin": null,
            "max_height": null,
            "max_width": null,
            "min_height": null,
            "min_width": null,
            "object_fit": null,
            "object_position": null,
            "order": null,
            "overflow": null,
            "overflow_x": null,
            "overflow_y": null,
            "padding": null,
            "right": null,
            "top": null,
            "visibility": null,
            "width": null
          }
        },
        "7e31e71541674a6fa4feadef06187037": {
          "model_module": "@jupyter-widgets/controls",
          "model_name": "DescriptionStyleModel",
          "model_module_version": "1.5.0",
          "state": {
            "_model_module": "@jupyter-widgets/controls",
            "_model_module_version": "1.5.0",
            "_model_name": "DescriptionStyleModel",
            "_view_count": null,
            "_view_module": "@jupyter-widgets/base",
            "_view_module_version": "1.2.0",
            "_view_name": "StyleView",
            "description_width": ""
          }
        }
      }
    },
    "accelerator": "GPU"
  },
  "cells": [
    {
      "cell_type": "code",
      "execution_count": 1,
      "metadata": {
        "colab": {
          "base_uri": "https://localhost:8080/"
        },
        "id": "rO0kQnKnZwdc",
        "outputId": "afc8a33e-f0f5-4c60-dc03-d9dd14f28fb1"
      },
      "outputs": [
        {
          "output_type": "stream",
          "name": "stdout",
          "text": [
            "2.1.0+cu121\n",
            "0.16.0+cu121\n"
          ]
        }
      ],
      "source": [
        "import torch\n",
        "from torch import nn\n",
        "\n",
        "import torchvision\n",
        "from torchvision import datasets, transforms\n",
        "from torchvision.transforms import ToTensor\n",
        "\n",
        "import matplotlib.pyplot as plt\n",
        "\n",
        "print(torch.__version__)\n",
        "print(torchvision.__version__)"
      ]
    },
    {
      "cell_type": "markdown",
      "source": [
        "## 1. Getting datset\n",
        "\n",
        "Dataset - CIFAR-10"
      ],
      "metadata": {
        "id": "NqeETWPZanN6"
      }
    },
    {
      "cell_type": "code",
      "source": [
        "from torchvision import transforms\n",
        "\n",
        "data_transform = transforms.Compose([\n",
        "    transforms.Resize(size=(32,32)),\n",
        "    transforms.RandomHorizontalFlip(p=0.5),\n",
        "    transforms.ToTensor()\n",
        "])"
      ],
      "metadata": {
        "id": "QURk-tVnzfoE"
      },
      "execution_count": 2,
      "outputs": []
    },
    {
      "cell_type": "code",
      "source": [
        "# Setup training data\n",
        "\n",
        "from torchvision import datasets\n",
        "train_data = datasets.CIFAR10(\n",
        "    root='data',  # where to download\n",
        "    train=True,   # do we want the training dataset\n",
        "    download=True, # do we want to download yes/no\n",
        "    transform= data_transform,  # how do we want to transform the data\n",
        "    target_transform=None  # how do we want tot transform the labels/targets\n",
        ")\n",
        "\n",
        "test_data = datasets.CIFAR10(\n",
        "    root='data',\n",
        "    train=False,\n",
        "    download=True,\n",
        "    transform=data_transform,\n",
        "    target_transform=None\n",
        ")"
      ],
      "metadata": {
        "colab": {
          "base_uri": "https://localhost:8080/"
        },
        "id": "kR4eXduXZzfl",
        "outputId": "54fcc269-47f0-43e7-b5e5-c3aa1b75f5c6"
      },
      "execution_count": 3,
      "outputs": [
        {
          "output_type": "stream",
          "name": "stdout",
          "text": [
            "Downloading https://www.cs.toronto.edu/~kriz/cifar-10-python.tar.gz to data/cifar-10-python.tar.gz\n"
          ]
        },
        {
          "output_type": "stream",
          "name": "stderr",
          "text": [
            "100%|██████████| 170498071/170498071 [00:13<00:00, 12976710.22it/s]\n"
          ]
        },
        {
          "output_type": "stream",
          "name": "stdout",
          "text": [
            "Extracting data/cifar-10-python.tar.gz to data\n",
            "Files already downloaded and verified\n"
          ]
        }
      ]
    },
    {
      "cell_type": "code",
      "source": [
        "len(train_data), len(test_data)"
      ],
      "metadata": {
        "colab": {
          "base_uri": "https://localhost:8080/"
        },
        "id": "51kOEM0DZzcf",
        "outputId": "709ab197-338c-4f41-d4b3-779c2cd59c62"
      },
      "execution_count": 4,
      "outputs": [
        {
          "output_type": "execute_result",
          "data": {
            "text/plain": [
              "(50000, 10000)"
            ]
          },
          "metadata": {},
          "execution_count": 4
        }
      ]
    },
    {
      "cell_type": "code",
      "source": [
        "# Seeing first example\n",
        "image, label = train_data[0]\n",
        "image, label"
      ],
      "metadata": {
        "colab": {
          "base_uri": "https://localhost:8080/"
        },
        "id": "V_fpPyr8bOTa",
        "outputId": "7e08c9f9-786c-40af-fde3-34792a90b6f2"
      },
      "execution_count": 5,
      "outputs": [
        {
          "output_type": "execute_result",
          "data": {
            "text/plain": [
              "(tensor([[[0.5804, 0.5961, 0.6196,  ..., 0.1961, 0.1686, 0.2314],\n",
              "          [0.4784, 0.4667, 0.4824,  ..., 0.0706, 0.0000, 0.0627],\n",
              "          [0.4275, 0.4706, 0.4627,  ..., 0.1922, 0.0627, 0.0980],\n",
              "          ...,\n",
              "          [0.2078, 0.2196, 0.6275,  ..., 0.7765, 0.7882, 0.8157],\n",
              "          [0.3255, 0.3804, 0.7216,  ..., 0.7294, 0.6784, 0.7059],\n",
              "          [0.4824, 0.5922, 0.8471,  ..., 0.7020, 0.6588, 0.6941]],\n",
              " \n",
              "         [[0.4863, 0.4902, 0.5176,  ..., 0.1882, 0.1804, 0.2431],\n",
              "          [0.3412, 0.3255, 0.3451,  ..., 0.0314, 0.0000, 0.0784],\n",
              "          [0.2863, 0.3294, 0.3294,  ..., 0.1059, 0.0275, 0.0941],\n",
              "          ...,\n",
              "          [0.1333, 0.1216, 0.5216,  ..., 0.6314, 0.6000, 0.6667],\n",
              "          [0.2078, 0.2431, 0.5804,  ..., 0.5647, 0.4824, 0.5451],\n",
              "          [0.3608, 0.4627, 0.7216,  ..., 0.5569, 0.5059, 0.5647]],\n",
              " \n",
              "         [[0.4039, 0.4000, 0.4235,  ..., 0.1686, 0.1765, 0.2471],\n",
              "          [0.2235, 0.1961, 0.2157,  ..., 0.0000, 0.0000, 0.0784],\n",
              "          [0.1647, 0.1961, 0.1961,  ..., 0.0314, 0.0000, 0.0824],\n",
              "          ...,\n",
              "          [0.0784, 0.0275, 0.2745,  ..., 0.1020, 0.1333, 0.3765],\n",
              "          [0.1333, 0.1333, 0.3686,  ..., 0.1176, 0.1647, 0.3765],\n",
              "          [0.2824, 0.3294, 0.5490,  ..., 0.3412, 0.3686, 0.4549]]]),\n",
              " 6)"
            ]
          },
          "metadata": {},
          "execution_count": 5
        }
      ]
    },
    {
      "cell_type": "code",
      "source": [
        "# Different classes/labels\n",
        "\n",
        "class_names = train_data.classes\n",
        "class_names"
      ],
      "metadata": {
        "colab": {
          "base_uri": "https://localhost:8080/"
        },
        "id": "IYV00rGNZzZV",
        "outputId": "6a9ae730-825e-4ed0-d9e8-6861e4980b5c"
      },
      "execution_count": 6,
      "outputs": [
        {
          "output_type": "execute_result",
          "data": {
            "text/plain": [
              "['airplane',\n",
              " 'automobile',\n",
              " 'bird',\n",
              " 'cat',\n",
              " 'deer',\n",
              " 'dog',\n",
              " 'frog',\n",
              " 'horse',\n",
              " 'ship',\n",
              " 'truck']"
            ]
          },
          "metadata": {},
          "execution_count": 6
        }
      ]
    },
    {
      "cell_type": "code",
      "source": [
        "# Classes with there index number\n",
        "\n",
        "class_to_idx = train_data.class_to_idx\n",
        "class_to_idx"
      ],
      "metadata": {
        "colab": {
          "base_uri": "https://localhost:8080/"
        },
        "id": "jz22dJ_bZzWZ",
        "outputId": "8cd2e418-990b-43ad-e14d-04fb724282c5"
      },
      "execution_count": 7,
      "outputs": [
        {
          "output_type": "execute_result",
          "data": {
            "text/plain": [
              "{'airplane': 0,\n",
              " 'automobile': 1,\n",
              " 'bird': 2,\n",
              " 'cat': 3,\n",
              " 'deer': 4,\n",
              " 'dog': 5,\n",
              " 'frog': 6,\n",
              " 'horse': 7,\n",
              " 'ship': 8,\n",
              " 'truck': 9}"
            ]
          },
          "metadata": {},
          "execution_count": 7
        }
      ]
    },
    {
      "cell_type": "markdown",
      "source": [
        "### 1.1 Getting input and output shapes of data"
      ],
      "metadata": {
        "id": "jmWim5KRa9ix"
      }
    },
    {
      "cell_type": "code",
      "source": [
        "image.shape, class_names[label]"
      ],
      "metadata": {
        "colab": {
          "base_uri": "https://localhost:8080/"
        },
        "id": "8ORmNCc0ZzTc",
        "outputId": "e5034411-b0cf-42ac-f300-5799bde08363"
      },
      "execution_count": 8,
      "outputs": [
        {
          "output_type": "execute_result",
          "data": {
            "text/plain": [
              "(torch.Size([3, 32, 32]), 'frog')"
            ]
          },
          "metadata": {},
          "execution_count": 8
        }
      ]
    },
    {
      "cell_type": "markdown",
      "source": [
        "### 1.2 Visualizing the data"
      ],
      "metadata": {
        "id": "ueWVZ2U8bdIs"
      }
    },
    {
      "cell_type": "code",
      "source": [
        "image, label = train_data[0]\n",
        "print(f'Image shape: {image.shape}')\n",
        "plt.imshow(image.permute(1,2,0))\n",
        "plt.title(class_names[label]);"
      ],
      "metadata": {
        "colab": {
          "base_uri": "https://localhost:8080/",
          "height": 470
        },
        "id": "NbmuPL0SZzQ1",
        "outputId": "f0ff5a53-3e57-4647-a447-0b9b14855a8c"
      },
      "execution_count": 9,
      "outputs": [
        {
          "output_type": "stream",
          "name": "stdout",
          "text": [
            "Image shape: torch.Size([3, 32, 32])\n"
          ]
        },
        {
          "output_type": "display_data",
          "data": {
            "text/plain": [
              "<Figure size 640x480 with 1 Axes>"
            ],
            "image/png": "[encoded data removed]"
          },
          "metadata": {}
        }
      ]
    },
    {
      "cell_type": "code",
      "source": [
        "# Plot more images\n",
        "torch.manual_seed(42)\n",
        "fig = plt.figure(figsize=(9,9))\n",
        "rows, cols = 4,4\n",
        "for i in range(1, rows*cols+1):\n",
        "  random_idx = torch.randint(0,len(train_data),size=[1]).item()\n",
        "  img, label = train_data[random_idx]\n",
        "  fig.add_subplot(rows,cols,i)\n",
        "  plt.imshow(img.permute(1,2,0), cmap='gray')\n",
        "  plt.title(class_names[label])\n",
        "  plt.axis(False)"
      ],
      "metadata": {
        "colab": {
          "base_uri": "https://localhost:8080/",
          "height": 752
        },
        "id": "8l86nwRYZzNo",
        "outputId": "a65d275c-eec1-4472-e15c-1901f7674e41"
      },
      "execution_count": 10,
      "outputs": [
        {
          "output_type": "display_data",
          "data": {
            "text/plain": [
              "<Figure size 900x900 with 16 Axes>"
            ],
            "image/png": "[encoded data removed]"
          },
          "metadata": {}
        }
      ]
    },
    {
      "cell_type": "code",
      "source": [],
      "metadata": {
        "id": "kiCqNrrWyuMw"
      },
      "execution_count": 10,
      "outputs": []
    },
    {
      "cell_type": "markdown",
      "source": [
        "## 2. Prepare DataLoader"
      ],
      "metadata": {
        "id": "s1SnvujKZzLG"
      }
    },
    {
      "cell_type": "code",
      "source": [
        "from torch.utils.data import DataLoader\n",
        "import os\n",
        "\n",
        "BATCH_SIZE = 32\n",
        "\n",
        "train_dataloader = DataLoader(dataset=train_data,\n",
        "                              batch_size=BATCH_SIZE,\n",
        "                              num_workers=os.cpu_count(),\n",
        "                              shuffle=True)\n",
        "\n",
        "test_dataloader = DataLoader(dataset=test_data,\n",
        "                             batch_size=BATCH_SIZE,\n",
        "                             num_workers=os.cpu_count(),\n",
        "                             shuffle=False)\n",
        "\n",
        "train_dataloader, test_dataloader"
      ],
      "metadata": {
        "id": "SCTaxJXsZzIJ",
        "colab": {
          "base_uri": "https://localhost:8080/"
        },
        "outputId": "3ab29d85-762c-4de3-9fb3-e7fc18385c83"
      },
      "execution_count": 11,
      "outputs": [
        {
          "output_type": "execute_result",
          "data": {
            "text/plain": [
              "(<torch.utils.data.dataloader.DataLoader at 0x787fee36a950>,\n",
              " <torch.utils.data.dataloader.DataLoader at 0x787fee36a2f0>)"
            ]
          },
          "metadata": {},
          "execution_count": 11
        }
      ]
    },
    {
      "cell_type": "code",
      "source": [
        "# Checking number of batches created\n",
        "print(f'Length of train_dataloader {len(train_dataloader)} batches of {BATCH_SIZE}')\n",
        "print(f'Length of test_dataloader {len(test_dataloader)} batches of {BATCH_SIZE}')"
      ],
      "metadata": {
        "id": "ZWkc4ZQZZzFL",
        "colab": {
          "base_uri": "https://localhost:8080/"
        },
        "outputId": "dd4809de-6e3b-42f0-f15c-3bf6d88716c0"
      },
      "execution_count": 12,
      "outputs": [
        {
          "output_type": "stream",
          "name": "stdout",
          "text": [
            "Length of train_dataloader 1563 batches of 32\n",
            "Length of test_dataloader 313 batches of 32\n"
          ]
        }
      ]
    },
    {
      "cell_type": "code",
      "source": [
        "# Checking whats inside train_dataloader\n",
        "train_features_batch, train_label_batch = next(iter(train_dataloader))\n",
        "train_features_batch.shape, train_label_batch.shape"
      ],
      "metadata": {
        "id": "nOpC3OorZzCY",
        "colab": {
          "base_uri": "https://localhost:8080/"
        },
        "outputId": "ddfe0a2b-d576-4b14-e320-7d24c98faa5b"
      },
      "execution_count": 13,
      "outputs": [
        {
          "output_type": "execute_result",
          "data": {
            "text/plain": [
              "(torch.Size([32, 3, 32, 32]), torch.Size([32]))"
            ]
          },
          "metadata": {},
          "execution_count": 13
        }
      ]
    },
    {
      "cell_type": "code",
      "source": [
        "# Seeing a sample from train_dataloader\n",
        "random_idx = torch.randint(0,len(train_features_batch),size=[1]).item()\n",
        "img, label = train_features_batch[random_idx], train_label_batch[random_idx]\n",
        "plt.imshow(img.permute(1,2,0))\n",
        "plt.title(class_names[label])\n",
        "plt.axis(False)\n",
        "print(f'Image size:{img.shape}')\n",
        "print(f'Label:{label}, Label shape:{label.shape}')"
      ],
      "metadata": {
        "id": "ZyFQAGP6Zy_j",
        "colab": {
          "base_uri": "https://localhost:8080/",
          "height": 465
        },
        "outputId": "daed37a5-e898-4ff7-cd0a-73389d95841c"
      },
      "execution_count": 14,
      "outputs": [
        {
          "output_type": "stream",
          "name": "stdout",
          "text": [
            "Image size:torch.Size([3, 32, 32])\n",
            "Label:6, Label shape:torch.Size([])\n"
          ]
        },
        {
          "output_type": "display_data",
          "data": {
            "text/plain": [
              "<Figure size 640x480 with 1 Axes>"
            ],
            "image/png": "[encoded data removed]"
          },
          "metadata": {}
        }
      ]
    },
    {
      "cell_type": "markdown",
      "source": [
        "## 3. Model_0 : Building a basline model"
      ],
      "metadata": {
        "id": "p8j2w_bPZy85"
      }
    },
    {
      "cell_type": "code",
      "source": [
        "from torch import nn\n",
        "\n",
        "class CIFARModelV0(nn.Module):\n",
        "  def __init__(self,\n",
        "               input_shape: int,\n",
        "               hidden_units: int,\n",
        "               output_shape: int):\n",
        "    super().__init__()\n",
        "    self.layer_stack = nn.Sequential(\n",
        "        nn.Flatten(),\n",
        "        nn.Linear(in_features=input_shape,\n",
        "                  out_features=hidden_units),\n",
        "        nn.Linear(in_features=hidden_units,\n",
        "                  out_features=output_shape)\n",
        "    )\n",
        "\n",
        "  def forward(self, x):\n",
        "    return self.layer_stack(x)"
      ],
      "metadata": {
        "id": "FRv__Ad5Zy5w"
      },
      "execution_count": 15,
      "outputs": []
    },
    {
      "cell_type": "code",
      "source": [
        "torch.manual_seed(42)\n",
        "\n",
        "# Setting up model with input parameters\n",
        "model_0 = CIFARModelV0(\n",
        "    input_shape = (3*32*32), # input of linear layer\n",
        "    hidden_units = 10,\n",
        "    output_shape= len(class_names)\n",
        ").to('cpu')\n",
        "\n",
        "model_0"
      ],
      "metadata": {
        "id": "JosOZVZse6Md",
        "colab": {
          "base_uri": "https://localhost:8080/"
        },
        "outputId": "37d6cf15-ab61-49b6-a4f3-7799a0f0bfaf"
      },
      "execution_count": 16,
      "outputs": [
        {
          "output_type": "execute_result",
          "data": {
            "text/plain": [
              "CIFARModelV0(\n",
              "  (layer_stack): Sequential(\n",
              "    (0): Flatten(start_dim=1, end_dim=-1)\n",
              "    (1): Linear(in_features=3072, out_features=10, bias=True)\n",
              "    (2): Linear(in_features=10, out_features=10, bias=True)\n",
              "  )\n",
              ")"
            ]
          },
          "metadata": {},
          "execution_count": 16
        }
      ]
    },
    {
      "cell_type": "code",
      "source": [
        "dummy_x = torch.rand([1,3,32,32])\n",
        "model_0(dummy_x)"
      ],
      "metadata": {
        "colab": {
          "base_uri": "https://localhost:8080/"
        },
        "id": "MYcK5J_f84vw",
        "outputId": "e9038fce-893d-4236-bb1a-5004ab49a4e8"
      },
      "execution_count": 17,
      "outputs": [
        {
          "output_type": "execute_result",
          "data": {
            "text/plain": [
              "tensor([[ 0.2860,  0.0425,  0.1333, -0.3589, -0.0223,  0.0192,  0.1143, -0.0072,\n",
              "         -0.1990, -0.1155]], grad_fn=<AddmmBackward0>)"
            ]
          },
          "metadata": {},
          "execution_count": 17
        }
      ]
    },
    {
      "cell_type": "markdown",
      "source": [
        "### 3.1 Setup loss function, optimizer and evaluation metrics"
      ],
      "metadata": {
        "id": "i4pWWYcUe6Jt"
      }
    },
    {
      "cell_type": "code",
      "source": [
        "loss_fn = nn.CrossEntropyLoss()\n",
        "\n",
        "optimizer = torch.optim.SGD(params=model_0.parameters(),\n",
        "                            lr=0.01)"
      ],
      "metadata": {
        "id": "0F6JgRn0e6Gl"
      },
      "execution_count": 18,
      "outputs": []
    },
    {
      "cell_type": "code",
      "source": [
        "def accuracy_fn(y_true, y_pred):\n",
        "  correct = torch.eq(y_true, y_pred).sum().item()\n",
        "  acc = correct/len(y_pred) * 100\n",
        "  return acc"
      ],
      "metadata": {
        "id": "nlI17itOe6Dh"
      },
      "execution_count": 19,
      "outputs": []
    },
    {
      "cell_type": "markdown",
      "source": [
        "### 3.2 Creating an function to time our experiments"
      ],
      "metadata": {
        "id": "yMXTwdhge6AR"
      }
    },
    {
      "cell_type": "code",
      "source": [
        "from timeit import default_timer as timer\n",
        "\n",
        "def print_train_timer(start : float,\n",
        "                      end : float,\n",
        "                      device: torch.device=None):\n",
        "  total_time = end - start\n",
        "  print(f'Train time on {device}:{total_time:.3f} seconds')\n",
        "  return total_time"
      ],
      "metadata": {
        "id": "IqLKjLn_e59I"
      },
      "execution_count": 20,
      "outputs": []
    },
    {
      "cell_type": "code",
      "source": [],
      "metadata": {
        "id": "hM_qBasse55j"
      },
      "execution_count": 20,
      "outputs": []
    },
    {
      "cell_type": "code",
      "source": [
        "# Import tqdm for progress bar\n",
        "\n",
        "from tqdm.auto import tqdm\n",
        "\n",
        "# Set the seed and start the timer\n",
        "torch.manual_seed(42)\n",
        "train_time_start_on_cpu = timer()\n",
        "\n",
        "# Set the number of epochs (we keep it small for faster training time)\n",
        "epochs = 3\n",
        "\n",
        "# Create training and test loop\n",
        "for epoch in tqdm(range(epochs)):\n",
        "  print(f'Epoch:{epoch}\\n----')\n",
        "\n",
        "  ### Training\n",
        "  train_loss = 0\n",
        "\n",
        "  # Add a loop to loop through the training batches\n",
        "  for batch, (X,y) in enumerate(train_dataloader):\n",
        "    model_0.train()\n",
        "    # 1. Forward pass\n",
        "    y_pred = model_0(X)\n",
        "\n",
        "    # 2. Calculate loss (per batch)\n",
        "    loss = loss_fn(y_pred, y)\n",
        "    train_loss += loss # accumulate train loss\n",
        "\n",
        "    # 3. Optimizer zero grad\n",
        "    optimizer.zero_grad()\n",
        "\n",
        "    # 4. Loss backward\n",
        "    loss.backward()\n",
        "\n",
        "    # 5. Optimizer step - Models parameters are updated per batch in place of per epochs\n",
        "    optimizer.step()\n",
        "\n",
        "    # Print out what's happening\n",
        "    if batch%400 == 0:\n",
        "      print(f'Looked at {batch * len(X)}/{len(train_dataloader.dataset)} samples.')\n",
        "\n",
        "  # Divide total train loss by lenght of train dataloader\n",
        "  train_loss /= len(train_dataloader)\n",
        "\n",
        "  ### Testing\n",
        "  test_loss, test_acc = 0, 0\n",
        "  model_0.eval()\n",
        "  with torch.inference_mode():\n",
        "    for X_test, y_test in test_dataloader:\n",
        "      # 1. Forward pass\n",
        "      test_pred = model_0(X_test)\n",
        "\n",
        "      # 2. Calculate loss (accumulatively)\n",
        "      test_loss += loss_fn(test_pred, y_test)\n",
        "\n",
        "      # 3. Calculate acc\n",
        "      test_acc += accuracy_fn(y_true=y_test,\n",
        "                              y_pred=test_pred.argmax(dim=1))\n",
        "\n",
        "    # Calculate the test loss average per batch\n",
        "    test_loss /=len(test_dataloader)\n",
        "\n",
        "    # Calculate the test acc average per batch\n",
        "    test_acc /= len(test_dataloader)\n",
        "\n",
        "  # Print out what's happening\n",
        "  print(f'\\nTrain loss:{train_loss:.4f}| Test loss:{test_loss:.4f}|Test acc:{test_acc:.2f}%')\n",
        "\n",
        "\n",
        "# Calculate training time\n",
        "train_time_end_on_cpu = timer()\n",
        "total_train_time_model_0 = print_train_timer(start=train_time_start_on_cpu,\n",
        "                                            end=train_time_end_on_cpu,\n",
        "                                            device=str(next(model_0.parameters()).device))\n"
      ],
      "metadata": {
        "id": "9mjNTDHRe5u1",
        "colab": {
          "base_uri": "https://localhost:8080/",
          "height": 508,
          "referenced_widgets": [
            "79aec248566d45b1b86d3f73e6ce6c7d",
            "6797993e634d4ea09c53d14c1147dea7",
            "ce1b34adec4146a0977e43782f703467",
            "09c699e19057479ba7e3687506866c57",
            "3e9a613861364ad8a7c95dd938f44a20",
            "916e6c5575b242029eced679a9220610",
            "d93789ac6e474f86a7430f84e90fa153",
            "d1f11d5ea5364606865a6d27a6846ba3",
            "a698e746b2e04a7799165b423c402b33",
            "a482ba54b9f045ac93546b1243d63103",
            "85ea270d878b4375a890b0f30d10e9e8"
          ]
        },
        "outputId": "3b1586bd-4a63-49d7-9189-6ad27c8487a8"
      },
      "execution_count": 21,
      "outputs": [
        {
          "output_type": "display_data",
          "data": {
            "text/plain": [
              "  0%|          | 0/3 [00:00<?, ?it/s]"
            ],
            "application/vnd.jupyter.widget-view+json": {
              "version_major": 2,
              "version_minor": 0,
              "model_id": "79aec248566d45b1b86d3f73e6ce6c7d"
            }
          },
          "metadata": {}
        },
        {
          "output_type": "stream",
          "name": "stdout",
          "text": [
            "Epoch:0\n",
            "----\n",
            "Looked at 0/50000 samples.\n",
            "Looked at 12800/50000 samples.\n",
            "Looked at 25600/50000 samples.\n",
            "Looked at 38400/50000 samples.\n",
            "\n",
            "Train loss:1.9459| Test loss:1.8695|Test acc:33.69%\n",
            "Epoch:1\n",
            "----\n",
            "Looked at 0/50000 samples.\n",
            "Looked at 12800/50000 samples.\n",
            "Looked at 25600/50000 samples.\n",
            "Looked at 38400/50000 samples.\n",
            "\n",
            "Train loss:1.8293| Test loss:1.8135|Test acc:36.62%\n",
            "Epoch:2\n",
            "----\n",
            "Looked at 0/50000 samples.\n",
            "Looked at 12800/50000 samples.\n",
            "Looked at 25600/50000 samples.\n",
            "Looked at 38400/50000 samples.\n",
            "\n",
            "Train loss:1.7973| Test loss:1.8088|Test acc:36.92%\n",
            "Train time on cpu:47.420 seconds\n"
          ]
        }
      ]
    },
    {
      "cell_type": "markdown",
      "source": [
        "## 4. Make predicitions and get get model 0 results"
      ],
      "metadata": {
        "id": "1Y8P_0A9if5x"
      }
    },
    {
      "cell_type": "code",
      "source": [
        "torch.manual_seed(42)\n",
        "\n",
        "def eval_mode(model: torch.nn.Module,\n",
        "              data_loader: torch.utils.data.DataLoader,\n",
        "              loss_fn: nn.Module,\n",
        "              accuracy_fn,\n",
        "              device=None):\n",
        "  loss, acc = 0,0\n",
        "  model.eval()\n",
        "  with torch.inference_mode():\n",
        "    for X, y in tqdm(data_loader):\n",
        "      X, y = X.to(device), y.to(device)\n",
        "      y_pred = model(X)\n",
        "\n",
        "      loss+= loss_fn(y_pred,y)\n",
        "      acc+=accuracy_fn(y_true=y,\n",
        "                      y_pred=y_pred.argmax(dim=1))\n",
        "\n",
        "    loss/=len(data_loader)\n",
        "    acc/=len(data_loader)\n",
        "\n",
        "  return {'mode_name:' : model.__class__.__name__,\n",
        "          'model_loss' : loss.item(),\n",
        "          'model_acc' : acc}"
      ],
      "metadata": {
        "id": "Rb1jZYJCif2t"
      },
      "execution_count": 22,
      "outputs": []
    },
    {
      "cell_type": "code",
      "source": [
        "model_0_results = eval_mode(model=model_0,\n",
        "                            data_loader=test_dataloader,\n",
        "                            loss_fn = loss_fn,\n",
        "                            accuracy_fn = accuracy_fn,\n",
        "                            device= 'cpu')\n",
        "model_0_results"
      ],
      "metadata": {
        "colab": {
          "base_uri": "https://localhost:8080/",
          "height": 104,
          "referenced_widgets": [
            "27cea04182654efd96870eb39b6d7f73",
            "1e8dc7efc0c140ed94b12a90f038a359",
            "3efe8ca12e134aa2bcbec15bcab8ae9a",
            "29c6df5158cc4bab95f6621e408fa595",
            "b6d9fa223496488c935fbb7c55b117fd",
            "f77fcb6d1ef0484ebef1b171f90b8f9f",
            "fa3571b9736348c393f93b1a5b5f4585",
            "59b7aa63180343f7b258b078273535fe",
            "affcd55008f64b3695d2dc36304fa257",
            "748b53f319a04fb78dc261ff4b767034",
            "7e31e71541674a6fa4feadef06187037"
          ]
        },
        "id": "bjXg_jYnifzn",
        "outputId": "d760c7e4-438e-46d8-b777-c51c63713f46"
      },
      "execution_count": 23,
      "outputs": [
        {
          "output_type": "display_data",
          "data": {
            "text/plain": [
              "  0%|          | 0/313 [00:00<?, ?it/s]"
            ],
            "application/vnd.jupyter.widget-view+json": {
              "version_major": 2,
              "version_minor": 0,
              "model_id": "27cea04182654efd96870eb39b6d7f73"
            }
          },
          "metadata": {}
        },
        {
          "output_type": "execute_result",
          "data": {
            "text/plain": [
              "{'mode_name:': 'CIFARModelV0',\n",
              " 'model_loss': 1.808881163597107,\n",
              " 'model_acc': 36.96086261980831}"
            ]
          },
          "metadata": {},
          "execution_count": 23
        }
      ]
    },
    {
      "cell_type": "markdown",
      "source": [
        "## 5. Setup device agnostic-code"
      ],
      "metadata": {
        "id": "TqjfXxSQifwm"
      }
    },
    {
      "cell_type": "code",
      "source": [
        "import torch\n",
        "device = 'cuda' if torch.cuda.is_available() else 'cpu'\n",
        "device"
      ],
      "metadata": {
        "colab": {
          "base_uri": "https://localhost:8080/",
          "height": 36
        },
        "id": "iq8qZPJ3iftt",
        "outputId": "5bc52866-3c5e-42cd-db74-c31c46901337"
      },
      "execution_count": 24,
      "outputs": [
        {
          "output_type": "execute_result",
          "data": {
            "text/plain": [
              "'cuda'"
            ],
            "application/vnd.google.colaboratory.intrinsic+json": {
              "type": "string"
            }
          },
          "metadata": {},
          "execution_count": 24
        }
      ]
    },
    {
      "cell_type": "code",
      "source": [
        "from torchvision import transforms\n",
        "\n",
        "data_transform_1 = transforms.Compose([\n",
        "    transforms.Resize(size=(64,64)),\n",
        "    transforms.RandomHorizontalFlip(p=0.5),\n",
        "    transforms.ToTensor()\n",
        "])"
      ],
      "metadata": {
        "id": "ymoB4LJ79umF"
      },
      "execution_count": 25,
      "outputs": []
    },
    {
      "cell_type": "code",
      "source": [
        "# Setup training data\n",
        "\n",
        "from torchvision import datasets\n",
        "train_data_1 = datasets.CIFAR10(\n",
        "    root='data',  # where to download\n",
        "    train=True,   # do we want the training dataset\n",
        "    download=True, # do we want to download yes/no\n",
        "    transform= data_transform_1,  # how do we want to transform the data\n",
        "    target_transform=None  # how do we want tot transform the labels/targets\n",
        ")\n",
        "\n",
        "test_data_1 = datasets.CIFAR10(\n",
        "    root='data',\n",
        "    train=False,\n",
        "    download=True,\n",
        "    transform=data_transform_1,\n",
        "    target_transform=None\n",
        ")"
      ],
      "metadata": {
        "colab": {
          "base_uri": "https://localhost:8080/"
        },
        "id": "Pqy1DVWl-EZ7",
        "outputId": "adeb77fe-cdea-4f46-f6f2-10304276568a"
      },
      "execution_count": 26,
      "outputs": [
        {
          "output_type": "stream",
          "name": "stdout",
          "text": [
            "Files already downloaded and verified\n",
            "Files already downloaded and verified\n"
          ]
        }
      ]
    },
    {
      "cell_type": "code",
      "source": [
        "from torch.utils.data import DataLoader\n",
        "import os\n",
        "\n",
        "BATCH_SIZE = 32\n",
        "\n",
        "train_dataloader_1 = DataLoader(dataset=train_data_1,\n",
        "                              batch_size=BATCH_SIZE,\n",
        "                              num_workers=os.cpu_count(),\n",
        "                              shuffle=True)\n",
        "\n",
        "test_dataloader_1 = DataLoader(dataset=test_data_1,\n",
        "                             batch_size=BATCH_SIZE,\n",
        "                             num_workers=os.cpu_count(),\n",
        "                             shuffle=False)\n",
        "\n",
        "train_dataloader_1, test_dataloader_1"
      ],
      "metadata": {
        "colab": {
          "base_uri": "https://localhost:8080/"
        },
        "id": "wfXZGsJS9uad",
        "outputId": "b8070bd5-1f2f-4c04-aeb6-d0129d29fec0"
      },
      "execution_count": 27,
      "outputs": [
        {
          "output_type": "execute_result",
          "data": {
            "text/plain": [
              "(<torch.utils.data.dataloader.DataLoader at 0x787fee2ce4d0>,\n",
              " <torch.utils.data.dataloader.DataLoader at 0x787fee2cc520>)"
            ]
          },
          "metadata": {},
          "execution_count": 27
        }
      ]
    },
    {
      "cell_type": "markdown",
      "source": [
        "## 6.1 Model 1: TinyVGG without augumentation"
      ],
      "metadata": {
        "id": "DIrlyuFEifqw"
      }
    },
    {
      "cell_type": "code",
      "source": [
        "class TinyVGG(nn.Module):\n",
        "  def __init__(self,\n",
        "               input_shape:int,\n",
        "               hidden_units:int,\n",
        "               output_shape:int)->None:\n",
        "    super().__init__()\n",
        "    self.conv_block_1 = nn.Sequential(\n",
        "        nn.Conv2d(in_channels=input_shape,\n",
        "                  out_channels=hidden_units,\n",
        "                  kernel_size=3,\n",
        "                  stride=1,\n",
        "                  padding=1),\n",
        "        nn.ReLU(),\n",
        "        nn.Conv2d(in_channels=hidden_units,\n",
        "                  out_channels=hidden_units,\n",
        "                  kernel_size=3,\n",
        "                  stride=1,\n",
        "                  padding=1),\n",
        "        nn.ReLU(),\n",
        "        nn.MaxPool2d(kernel_size=2)\n",
        "    )\n",
        "    self.conv_block_2 = nn.Sequential(\n",
        "        nn.Conv2d(in_channels=hidden_units,\n",
        "                  out_channels=hidden_units,\n",
        "                  kernel_size=3,\n",
        "                  stride=1,\n",
        "                  padding=1),\n",
        "        nn.ReLU(),\n",
        "        nn.Conv2d(in_channels=hidden_units,\n",
        "                  out_channels=hidden_units,\n",
        "                  kernel_size=3,\n",
        "                  stride=1,\n",
        "                  padding=1),\n",
        "        nn.ReLU(),\n",
        "        nn.MaxPool2d(kernel_size=2)\n",
        "    )\n",
        "    self.classifier = nn.Sequential(\n",
        "        nn.Flatten(),\n",
        "        nn.Linear(in_features=hidden_units*16*16,\n",
        "                  out_features=output_shape)\n",
        "    )\n",
        "\n",
        "  def forward(self,x):\n",
        "    x = self.conv_block_1(x)\n",
        "    print(x.shape)\n",
        "    x = self.conv_block_2(x)\n",
        "    print(x.shape)\n",
        "    x = self.classifier(x)\n",
        "    print(x.shape)\n",
        "    return x"
      ],
      "metadata": {
        "id": "wiFkSshWifjN"
      },
      "execution_count": 28,
      "outputs": []
    },
    {
      "cell_type": "code",
      "source": [
        "torch.manual_seed(42)\n",
        "\n",
        "model_1 = TinyVGG(input_shape=3,\n",
        "                  hidden_units=10,\n",
        "                  output_shape=len(class_names)).to(device)\n",
        "\n",
        "model_1"
      ],
      "metadata": {
        "id": "yDj6APdwifd_",
        "colab": {
          "base_uri": "https://localhost:8080/"
        },
        "outputId": "88e7d592-c155-495a-9e8f-5a3f0a3539da"
      },
      "execution_count": 29,
      "outputs": [
        {
          "output_type": "execute_result",
          "data": {
            "text/plain": [
              "TinyVGG(\n",
              "  (conv_block_1): Sequential(\n",
              "    (0): Conv2d(3, 10, kernel_size=(3, 3), stride=(1, 1), padding=(1, 1))\n",
              "    (1): ReLU()\n",
              "    (2): Conv2d(10, 10, kernel_size=(3, 3), stride=(1, 1), padding=(1, 1))\n",
              "    (3): ReLU()\n",
              "    (4): MaxPool2d(kernel_size=2, stride=2, padding=0, dilation=1, ceil_mode=False)\n",
              "  )\n",
              "  (conv_block_2): Sequential(\n",
              "    (0): Conv2d(10, 10, kernel_size=(3, 3), stride=(1, 1), padding=(1, 1))\n",
              "    (1): ReLU()\n",
              "    (2): Conv2d(10, 10, kernel_size=(3, 3), stride=(1, 1), padding=(1, 1))\n",
              "    (3): ReLU()\n",
              "    (4): MaxPool2d(kernel_size=2, stride=2, padding=0, dilation=1, ceil_mode=False)\n",
              "  )\n",
              "  (classifier): Sequential(\n",
              "    (0): Flatten(start_dim=1, end_dim=-1)\n",
              "    (1): Linear(in_features=2560, out_features=10, bias=True)\n",
              "  )\n",
              ")"
            ]
          },
          "metadata": {},
          "execution_count": 29
        }
      ]
    },
    {
      "cell_type": "code",
      "source": [
        "# Try a forward pass on a single Image (to test the model)\n",
        "\n",
        "image_batch, label_batch = next(iter(train_dataloader_1))\n",
        "image_batch.shape, label_batch.shape"
      ],
      "metadata": {
        "colab": {
          "base_uri": "https://localhost:8080/"
        },
        "id": "y7kaD3LD5JKh",
        "outputId": "407bcb54-afc9-43bb-ddcd-034879a23013"
      },
      "execution_count": 30,
      "outputs": [
        {
          "output_type": "execute_result",
          "data": {
            "text/plain": [
              "(torch.Size([32, 3, 64, 64]), torch.Size([32]))"
            ]
          },
          "metadata": {},
          "execution_count": 30
        }
      ]
    },
    {
      "cell_type": "code",
      "source": [
        "model_1(image_batch.to(device))"
      ],
      "metadata": {
        "colab": {
          "base_uri": "https://localhost:8080/"
        },
        "id": "Fj-3MJrs5JHE",
        "outputId": "b5b68d6a-8607-4e5d-e006-a852322b5983"
      },
      "execution_count": 31,
      "outputs": [
        {
          "output_type": "stream",
          "name": "stdout",
          "text": [
            "torch.Size([32, 10, 32, 32])\n",
            "torch.Size([32, 10, 16, 16])\n",
            "torch.Size([32, 10])\n"
          ]
        },
        {
          "output_type": "execute_result",
          "data": {
            "text/plain": [
              "tensor([[ 0.0483,  0.0540,  0.0251, -0.0467, -0.0442,  0.0324, -0.0697,  0.0887,\n",
              "         -0.0284,  0.0591],\n",
              "        [ 0.0553,  0.0569,  0.0273, -0.0472, -0.0449,  0.0324, -0.0722,  0.0882,\n",
              "         -0.0266,  0.0647],\n",
              "        [ 0.0499,  0.0518,  0.0232, -0.0421, -0.0440,  0.0301, -0.0668,  0.0837,\n",
              "         -0.0251,  0.0580],\n",
              "        [ 0.0551,  0.0570,  0.0270, -0.0467, -0.0462,  0.0299, -0.0732,  0.0911,\n",
              "         -0.0238,  0.0688],\n",
              "        [ 0.0541,  0.0554,  0.0242, -0.0437, -0.0441,  0.0309, -0.0725,  0.0858,\n",
              "         -0.0258,  0.0632],\n",
              "        [ 0.0506,  0.0520,  0.0255, -0.0449, -0.0431,  0.0324, -0.0692,  0.0862,\n",
              "         -0.0272,  0.0594],\n",
              "        [ 0.0482,  0.0499,  0.0241, -0.0427, -0.0428,  0.0313, -0.0698,  0.0824,\n",
              "         -0.0255,  0.0563],\n",
              "        [ 0.0462,  0.0517,  0.0253, -0.0441, -0.0429,  0.0277, -0.0720,  0.0850,\n",
              "         -0.0242,  0.0597],\n",
              "        [ 0.0485,  0.0516,  0.0243, -0.0421, -0.0443,  0.0288, -0.0717,  0.0819,\n",
              "         -0.0258,  0.0595],\n",
              "        [ 0.0528,  0.0543,  0.0258, -0.0485, -0.0456,  0.0299, -0.0729,  0.0895,\n",
              "         -0.0226,  0.0655],\n",
              "        [ 0.0481,  0.0500,  0.0265, -0.0435, -0.0484,  0.0252, -0.0731,  0.0872,\n",
              "         -0.0236,  0.0615],\n",
              "        [ 0.0488,  0.0519,  0.0253, -0.0427, -0.0465,  0.0257, -0.0709,  0.0881,\n",
              "         -0.0241,  0.0593],\n",
              "        [ 0.0451,  0.0480,  0.0219, -0.0418, -0.0427,  0.0278, -0.0701,  0.0784,\n",
              "         -0.0247,  0.0568],\n",
              "        [ 0.0463,  0.0496,  0.0250, -0.0420, -0.0436,  0.0283, -0.0698,  0.0821,\n",
              "         -0.0255,  0.0582],\n",
              "        [ 0.0497,  0.0525,  0.0253, -0.0469, -0.0437,  0.0335, -0.0701,  0.0862,\n",
              "         -0.0260,  0.0571],\n",
              "        [ 0.0545,  0.0555,  0.0236, -0.0423, -0.0436,  0.0331, -0.0706,  0.0853,\n",
              "         -0.0263,  0.0638],\n",
              "        [ 0.0468,  0.0518,  0.0232, -0.0429, -0.0439,  0.0284, -0.0727,  0.0812,\n",
              "         -0.0261,  0.0590],\n",
              "        [ 0.0466,  0.0487,  0.0264, -0.0410, -0.0416,  0.0295, -0.0687,  0.0815,\n",
              "         -0.0245,  0.0547],\n",
              "        [ 0.0480,  0.0517,  0.0227, -0.0435, -0.0429,  0.0324, -0.0699,  0.0824,\n",
              "         -0.0256,  0.0579],\n",
              "        [ 0.0504,  0.0507,  0.0261, -0.0462, -0.0412,  0.0307, -0.0672,  0.0845,\n",
              "         -0.0250,  0.0580],\n",
              "        [ 0.0456,  0.0543,  0.0251, -0.0437, -0.0445,  0.0275, -0.0754,  0.0867,\n",
              "         -0.0245,  0.0607],\n",
              "        [ 0.0436,  0.0493,  0.0217, -0.0430, -0.0442,  0.0274, -0.0690,  0.0782,\n",
              "         -0.0244,  0.0572],\n",
              "        [ 0.0485,  0.0490,  0.0276, -0.0463, -0.0454,  0.0293, -0.0703,  0.0816,\n",
              "         -0.0251,  0.0602],\n",
              "        [ 0.0474,  0.0518,  0.0256, -0.0448, -0.0425,  0.0297, -0.0700,  0.0824,\n",
              "         -0.0268,  0.0583],\n",
              "        [ 0.0466,  0.0492,  0.0242, -0.0433, -0.0430,  0.0299, -0.0703,  0.0815,\n",
              "         -0.0269,  0.0575],\n",
              "        [ 0.0512,  0.0527,  0.0258, -0.0444, -0.0445,  0.0313, -0.0733,  0.0860,\n",
              "         -0.0242,  0.0615],\n",
              "        [ 0.0475,  0.0513,  0.0226, -0.0429, -0.0409,  0.0320, -0.0711,  0.0824,\n",
              "         -0.0254,  0.0602],\n",
              "        [ 0.0498,  0.0533,  0.0273, -0.0434, -0.0448,  0.0307, -0.0711,  0.0873,\n",
              "         -0.0258,  0.0609],\n",
              "        [ 0.0442,  0.0513,  0.0285, -0.0423, -0.0454,  0.0234, -0.0707,  0.0839,\n",
              "         -0.0243,  0.0628],\n",
              "        [ 0.0483,  0.0498,  0.0239, -0.0414, -0.0400,  0.0311, -0.0689,  0.0818,\n",
              "         -0.0244,  0.0576],\n",
              "        [ 0.0496,  0.0546,  0.0247, -0.0464, -0.0442,  0.0308, -0.0758,  0.0847,\n",
              "         -0.0243,  0.0641],\n",
              "        [ 0.0509,  0.0539,  0.0247, -0.0434, -0.0442,  0.0297, -0.0711,  0.0822,\n",
              "         -0.0261,  0.0595]], device='cuda:0', grad_fn=<AddmmBackward0>)"
            ]
          },
          "metadata": {},
          "execution_count": 31
        }
      ]
    },
    {
      "cell_type": "code",
      "source": [],
      "metadata": {
        "id": "Ai8DuSJd5JDF"
      },
      "execution_count": 31,
      "outputs": []
    },
    {
      "cell_type": "code",
      "source": [],
      "metadata": {
        "id": "DA0vDODb5I_y"
      },
      "execution_count": 31,
      "outputs": []
    },
    {
      "cell_type": "code",
      "source": [],
      "metadata": {
        "id": "5flaFHpD5I8o"
      },
      "execution_count": 31,
      "outputs": []
    },
    {
      "cell_type": "code",
      "source": [],
      "metadata": {
        "id": "sD_zONle5I5B"
      },
      "execution_count": 31,
      "outputs": []
    },
    {
      "cell_type": "code",
      "source": [],
      "metadata": {
        "id": "OOg74bhU5I1x"
      },
      "execution_count": 31,
      "outputs": []
    }
  ]
}